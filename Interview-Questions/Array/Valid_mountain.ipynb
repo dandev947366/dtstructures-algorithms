{
 "cells": [
  {
   "cell_type": "markdown",
   "metadata": {},
   "source": [
    "Valid mountain\n",
    "\n",
    "Source: https://leetcode.com/problems/valid-mountain-array/"
   ]
  },
  {
   "cell_type": "markdown",
   "metadata": {},
   "source": [
    "Given an array of integers arr, return true if and only if it is a valid mountain array.\n",
    "\n",
    "Recall that arr is a mountain array if and only if:\n",
    "\n",
    "arr.length >= 3\n",
    "There exists some i with 0 < i < arr.length - 1 such that:\n",
    "arr[0] < arr[1] < ... < arr[i - 1] < arr[i] \n",
    "arr[i] > arr[i + 1] > ... > arr[arr.length - 1]"
   ]
  },
  {
   "cell_type": "markdown",
   "metadata": {},
   "source": [
    "\n",
    "![Valid_mountain](./images/hint_valid_mountain_array.png)"
   ]
  },
  {
   "cell_type": "markdown",
   "metadata": {},
   "source": [
    "Example 1:\n",
    "\n",
    "Input: arr = [2,1]\n",
    "Output: false\n",
    "Example 2:\n",
    "\n",
    "Input: arr = [3,5,5]\n",
    "Output: false\n",
    "Example 3:\n",
    "\n",
    "Input: arr = [0,3,2,1]\n",
    "Output: true\n",
    " \n",
    "\n",
    "Constraints:\n",
    "\n",
    "1 <= arr.length <= 104\n",
    "0 <= arr[i] <= 104"
   ]
  },
  {
   "cell_type": "markdown",
   "metadata": {},
   "source": [
    "Problem Explanation\n",
    "- A valid mountain array must satisfy the following conditions:\n",
    "\n",
    "- The array length must be at least 3.\n",
    "- There must be a peak element such that:\n",
    "- The elements before the peak are strictly increasing.\n",
    "- The elements after the peak are strictly decreasing."
   ]
  },
  {
   "cell_type": "code",
   "execution_count": 5,
   "metadata": {},
   "outputs": [],
   "source": [
    "from typing import List\n",
    "class Solution:\n",
    "    def validMountainChecker(self, A: List[int]) -> bool:\n",
    "        if(len(A) < 3):\n",
    "            return False\n",
    "        i = 1\n",
    "        while(i<len(A) and A[i]>A[i-1]):\n",
    "            i+=1\n",
    "        if(i==1 or i==len(A)):\n",
    "            return False\n",
    "        while(i<len(A) and A[i]<A[i-1]):\n",
    "            i+=1\n",
    "        return i == len(A)"
   ]
  },
  {
   "cell_type": "code",
   "execution_count": 6,
   "metadata": {},
   "outputs": [
    {
     "name": "stdout",
     "output_type": "stream",
     "text": [
      "Test Case 1: Input: [2, 1] | Expected: False | Result: False\n",
      "Test Case 2: Input: [0, 3, 2, 1] | Expected: True | Result: True\n",
      "Test Case 3: Input: [1, 2] | Expected: False | Result: False\n",
      "Test Case 4: Input: [3, 5, 5] | Expected: False | Result: False\n",
      "Test Case 5: Input: [1, 2, 3] | Expected: False | Result: False\n",
      "Test Case 6: Input: [3, 2, 1] | Expected: False | Result: False\n"
     ]
    }
   ],
   "source": [
    "solution = Solution()\n",
    "test_cases = [\n",
    "    ([2, 1], False),\n",
    "    ([0, 3, 2, 1], True),\n",
    "    ([1, 2], False),\n",
    "    ([3, 5, 5], False),\n",
    "    ([1, 2, 3], False),\n",
    "    ([3, 2, 1], False)\n",
    "]\n",
    "\n",
    "# Run and print results\n",
    "for i, (arr, expected) in enumerate(test_cases):\n",
    "    result = solution.validMountainChecker(arr)\n",
    "    print(f\"Test Case {i + 1}: Input: {arr} | Expected: {expected} | Result: {result}\")"
   ]
  }
 ],
 "metadata": {
  "kernelspec": {
   "display_name": "venv",
   "language": "python",
   "name": "python3"
  },
  "language_info": {
   "codemirror_mode": {
    "name": "ipython",
    "version": 3
   },
   "file_extension": ".py",
   "mimetype": "text/x-python",
   "name": "python",
   "nbconvert_exporter": "python",
   "pygments_lexer": "ipython3",
   "version": "3.12.0"
  }
 },
 "nbformat": 4,
 "nbformat_minor": 2
}
