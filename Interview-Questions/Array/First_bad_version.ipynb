{
 "cells": [
  {
   "cell_type": "markdown",
   "metadata": {},
   "source": [
    "First Bad Version\n",
    "\n",
    "Resource: https://leetcode.com/problems/first-bad-version/description/"
   ]
  },
  {
   "cell_type": "markdown",
   "metadata": {},
   "source": [
    "You are a product manager and currently leading a team to develop a new product. Unfortunately, the latest version of your product fails the quality check. Since each version is developed based on the previous version, all the versions after a bad version are also bad.\n",
    "\n",
    "Suppose you have n versions [1, 2, ..., n] and you want to find out the first bad one, which causes all the following ones to be bad.\n",
    "\n",
    "You are given an API bool isBadVersion(version) which returns whether version is bad. Implement a function to find the first bad version. You should minimize the number of calls to the API.\n",
    "\n",
    " \n",
    "\n",
    "Example 1:\n",
    "\n",
    "Input: n = 5, bad = 4\n",
    "Output: 4\n",
    "Explanation:\n",
    "call isBadVersion(3) -> false\n",
    "call isBadVersion(5) -> true\n",
    "call isBadVersion(4) -> true\n",
    "Then 4 is the first bad version.\n",
    "Example 2:\n",
    "\n",
    "Input: n = 1, bad = 1\n",
    "Output: 1\n",
    " \n",
    "\n",
    "Constraints:\n",
    "\n",
    "1 <= bad <= n <= 231 - 1"
   ]
  },
  {
   "cell_type": "code",
   "execution_count": 1,
   "metadata": {},
   "outputs": [],
   "source": [
    "def isBadVersion(num):\n",
    "    return num >=3\n",
    "    \n",
    "class Solution:\n",
    "    def firstBadVersion(self, n):\n",
    "        left = 1\n",
    "        right = n\n",
    "\n",
    "        while(left < right):\n",
    "            mid = left+(right-left)//2\n",
    "            if not isBadVersion(mid):\n",
    "                left = mid+1\n",
    "            else:\n",
    "                right = mid\n",
    "        return left"
   ]
  },
  {
   "cell_type": "code",
   "execution_count": 4,
   "metadata": {},
   "outputs": [
    {
     "name": "stdout",
     "output_type": "stream",
     "text": [
      "3\n"
     ]
    }
   ],
   "source": [
    "# Example test\n",
    "n = 7  # Total number of versions\n",
    "solution = Solution()\n",
    "print(solution.firstBadVersion(n))  # Expected output: 3"
   ]
  },
  {
   "cell_type": "markdown",
   "metadata": {},
   "source": [
    "Detailed Walkthrough\n",
    "Initialization:\n",
    "\n",
    "left is initialized to 1 (the first version).\n",
    "right is initialized to n (the last version).\n",
    "Binary Search Loop:\n",
    "\n",
    "The loop continues as long as left < right. This ensures that the search space is reduced until left equals right.\n",
    "\n",
    "Inside the loop:\n",
    "\n",
    "mid is calculated as the midpoint between left and right using the formula mid = left + (right - left) // 2. This avoids potential overflow that could occur with large values of left and right in some programming languages.\n",
    "\n",
    "If isBadVersion(mid) returns False, it means that the first bad version must be to the right of mid. Hence, we update left to mid + 1.\n",
    "\n",
    "If isBadVersion(mid) returns True, it means that the first bad version is either at mid or to the left of it, so we update right to mid.\n",
    "\n",
    "Termination:\n",
    "\n",
    "The loop exits when left == right, which means we have narrowed down the search to a single version. This version is the first bad version.\n",
    "Return:\n",
    "\n",
    "The method returns left, which is the index of the first bad version.\n",
    "Example Execution\n",
    "Assume n = 5, and the bad versions start from 3. The code execution would look like this:\n",
    "\n",
    "Initial state: left = 1, right = 5\n",
    "\n",
    "First Iteration:\n",
    "mid = (1 + (5 - 1) // 2) = 3\n",
    "isBadVersion(3) is True (because 3 is a bad version).\n",
    "So, right = 3.\n",
    "Second Iteration:\n",
    "mid = (1 + (3 - 1) // 2) = 2\n",
    "isBadVersion(2) is False (because 2 is a good version).\n",
    "So, left = 3.\n",
    "Now, left = 3 and right = 3, so the loop exits.\n",
    "\n",
    "The method returns left, which is 3, the first bad version.\n",
    "\n",
    "Efficiency\n",
    "This algorithm is efficient because it uses binary search, reducing the number of isBadVersion calls from potentially O(n) to O(log n)."
   ]
  }
 ],
 "metadata": {
  "kernelspec": {
   "display_name": "venv",
   "language": "python",
   "name": "python3"
  },
  "language_info": {
   "codemirror_mode": {
    "name": "ipython",
    "version": 3
   },
   "file_extension": ".py",
   "mimetype": "text/x-python",
   "name": "python",
   "nbconvert_exporter": "python",
   "pygments_lexer": "ipython3",
   "version": "3.12.0"
  }
 },
 "nbformat": 4,
 "nbformat_minor": 2
}
